{
 "cells": [
  {
   "cell_type": "code",
   "execution_count": 5,
   "id": "1bbfba7c-2e31-42c6-8a3b-e3356c9f6f6e",
   "metadata": {},
   "outputs": [
    {
     "data": {
      "text/plain": [
       "0.3461"
      ]
     },
     "execution_count": 5,
     "metadata": {},
     "output_type": "execute_result"
    }
   ],
   "source": [
    "import random\n",
    "\n",
    "code = [1,2,3,4]\n",
    "\n",
    "def lock_sim(code):\n",
    "    correct = 0\n",
    "    wrong = 0\n",
    "\n",
    "    for i in range(10000):\n",
    "        \n",
    "        num1 = random.randint(0,9)\n",
    "        num2 = random.randint(0,9)\n",
    "        num3 = random.randint(0,9)\n",
    "        num4 = random.randint(0,9)\n",
    "\n",
    "        if num1 == code[0] or num2 == code[1] or num3 == code[2] or num4 == code[3]:\n",
    "            correct += 1\n",
    "        \n",
    "        else:\n",
    "            wrong += 1\n",
    "\n",
    "    return correct / (correct+wrong)\n",
    "    \n",
    "lock_sim(code)"
   ]
  },
  {
   "cell_type": "code",
   "execution_count": null,
   "id": "32ead4ef-3fae-422f-a63f-9f350a73faf5",
   "metadata": {},
   "outputs": [],
   "source": []
  },
  {
   "cell_type": "code",
   "execution_count": null,
   "id": "cdc87a72-d7a8-4812-a322-bf805e870423",
   "metadata": {},
   "outputs": [],
   "source": []
  }
 ],
 "metadata": {
  "kernelspec": {
   "display_name": "Python 3 (ipykernel)",
   "language": "python",
   "name": "python3"
  },
  "language_info": {
   "codemirror_mode": {
    "name": "ipython",
    "version": 3
   },
   "file_extension": ".py",
   "mimetype": "text/x-python",
   "name": "python",
   "nbconvert_exporter": "python",
   "pygments_lexer": "ipython3",
   "version": "3.11.6"
  }
 },
 "nbformat": 4,
 "nbformat_minor": 5
}
